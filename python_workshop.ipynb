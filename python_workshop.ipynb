{
 "cells": [
  {
   "cell_type": "markdown",
   "metadata": {},
   "source": [
    "Install snakemake-minimal for window"
   ]
  },
  {
   "cell_type": "code",
   "execution_count": 1,
   "metadata": {},
   "outputs": [
    {
     "name": "stdout",
     "output_type": "stream",
     "text": [
      "^C\n"
     ]
    }
   ],
   "source": [
    "! conda install -c bioconda -c conda-forge snakemake-minimal"
   ]
  },
  {
   "cell_type": "code",
   "execution_count": 2,
   "metadata": {},
   "outputs": [],
   "source": [
    "from snakemake.io import *"
   ]
  },
  {
   "cell_type": "markdown",
   "metadata": {},
   "source": [
    "Generating file names with expand()"
   ]
  },
  {
   "cell_type": "code",
   "execution_count": 3,
   "metadata": {},
   "outputs": [
    {
     "data": {
      "text/plain": [
       "['folder/a_1.txt',\n",
       " 'folder/a_2.txt',\n",
       " 'folder/a_3.txt',\n",
       " 'folder/b_1.txt',\n",
       " 'folder/b_2.txt',\n",
       " 'folder/b_3.txt',\n",
       " 'folder/c_1.txt',\n",
       " 'folder/c_2.txt',\n",
       " 'folder/c_3.txt']"
      ]
     },
     "execution_count": 3,
     "metadata": {},
     "output_type": "execute_result"
    }
   ],
   "source": [
    "expand ('folder/{wildcard1}_{wildcard2}.txt', wildcard1=['a','b','c'], wildcard2=[1,2,3])"
   ]
  },
  {
   "cell_type": "markdown",
   "metadata": {},
   "source": [
    "Get wildcard values with glob_wildcards()"
   ]
  },
  {
   "cell_type": "code",
   "execution_count": 4,
   "metadata": {},
   "outputs": [
    {
     "data": {
      "text/plain": [
       "Wildcards(example=['abyss', 'isles', 'last', 'sierra'])"
      ]
     },
     "execution_count": 4,
     "metadata": {},
     "output_type": "execute_result"
    }
   ],
   "source": [
    "glob_wildcards('books/{example}.txt')"
   ]
  },
  {
   "cell_type": "code",
   "execution_count": 5,
   "metadata": {},
   "outputs": [
    {
     "data": {
      "text/plain": [
       "['abyss', 'isles', 'last', 'sierra']"
      ]
     },
     "execution_count": 5,
     "metadata": {},
     "output_type": "execute_result"
    }
   ],
   "source": [
    "glob_wildcards('books/{example}.txt').example"
   ]
  },
  {
   "cell_type": "code",
   "execution_count": null,
   "metadata": {},
   "outputs": [],
   "source": [
    "snakemake clean\n",
    "snakemake -j 4    \n",
    "# 4 cores is usually a safe assumption when working on a laptop/desktop\n",
    "# snakemake -job 4\n",
    "#snakemake --cores 4"
   ]
  },
  {
   "cell_type": "code",
   "execution_count": 31,
   "metadata": {},
   "outputs": [
    {
     "data": {
      "text/plain": [
       "8"
      ]
     },
     "execution_count": 31,
     "metadata": {},
     "output_type": "execute_result"
    }
   ],
   "source": [
    "#ython’s psutil module can be used to fetch the number of cores in your computer. \n",
    "#Using logical=False returns the number of true CPU cores. \n",
    "#logical=True gives the number of CPU threads on your system.\n",
    "import psutil\n",
    "psutil.cpu_count(logical=False)"
   ]
  },
  {
   "cell_type": "code",
   "execution_count": null,
   "metadata": {},
   "outputs": [],
   "source": [
    "snakemake clean\n",
    "snakemake -j 4 --resources gpu=1"
   ]
  },
  {
   "cell_type": "code",
   "execution_count": 1,
   "metadata": {},
   "outputs": [
    {
     "data": {
      "text/plain": [
       "'c:\\\\Jade\\\\thesis\\\\snakemakeWorkshop\\\\workflow-engines-lesson'"
      ]
     },
     "execution_count": 1,
     "metadata": {},
     "output_type": "execute_result"
    }
   ],
   "source": [
    "pwd\n"
   ]
  }
 ],
 "metadata": {
  "kernelspec": {
   "display_name": "feature_extraction",
   "language": "python",
   "name": "python3"
  },
  "language_info": {
   "codemirror_mode": {
    "name": "ipython",
    "version": 3
   },
   "file_extension": ".py",
   "mimetype": "text/x-python",
   "name": "python",
   "nbconvert_exporter": "python",
   "pygments_lexer": "ipython3",
   "version": "3.10.8"
  }
 },
 "nbformat": 4,
 "nbformat_minor": 2
}
